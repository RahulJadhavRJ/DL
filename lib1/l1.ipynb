{
  "cells": [
    {
      "attachments": {},
      "cell_type": "markdown",
      "metadata": {
        "id": "ggL7vqjDhVLd"
      },
      "source": [
        "# Problem Statement\n",
        "\n",
        "**Linear regression by using Deep Neural network**: Implement Boston housing price prediction problem by Linear regression using Deep Neural network. Use Boston House price prediction dataset. "
      ]
    },
    {
      "cell_type": "code",
      "execution_count": 1,
      "metadata": {
        "id": "_F2vhnLJ3lm6"
      },
      "outputs": [],
      "source": [
        "# Data analysis and visualization\n",
        "import tensorflow as tf\n",
        "import numpy as np\n",
        "import pandas as pd\n",
        "import matplotlib.pyplot as plt\n",
        "%matplotlib inline \n",
        "\n",
        "# Preprocessing and evaluation\n",
        "from sklearn.model_selection import train_test_split\n",
        "from sklearn.compose import make_column_transformer\n",
        "from sklearn.preprocessing import MinMaxScaler"
      ]
    },
    {
      "cell_type": "code",
      "execution_count": 2,
      "metadata": {
        "id": "ILfTB4Ow3OAU"
      },
      "outputs": [
        {
          "name": "stdout",
          "output_type": "stream",
          "text": [
            "Downloading data from https://storage.googleapis.com/tensorflow/tf-keras-datasets/boston_housing.npz\n",
            "57026/57026 [==============================] - 0s 1us/step\n"
          ]
        }
      ],
      "source": [
        "(X_train , y_train), (X_test , y_test) = tf.keras.datasets.boston_housing.load_data(\n",
        "                                            path = 'boston_housing_npz',\n",
        "                                            test_split = 0.2,\n",
        "                                            seed = 42\n",
        "                                        )"
      ]
    },
    {
      "cell_type": "code",
      "execution_count": 3,
      "metadata": {
        "colab": {
          "base_uri": "https://localhost:8080/"
        },
        "id": "lmgYsStF3vyi",
        "outputId": "d9d7c9ad-7e0a-4d0e-9c71-e20775ea9dc5"
      },
      "outputs": [
        {
          "data": {
            "text/plain": [
              "(((404, 13), numpy.ndarray),\n",
              " ((102, 13), numpy.ndarray),\n",
              " ((404,), numpy.ndarray),\n",
              " ((102,), numpy.ndarray))"
            ]
          },
          "execution_count": 3,
          "metadata": {},
          "output_type": "execute_result"
        }
      ],
      "source": [
        "# Checking the data shape and type\n",
        "(X_train.shape, type(X_train)), (X_test.shape, type(X_test)), (y_train.shape, type(y_train)), (y_test.shape, type(y_test)),"
      ]
    },
    {
      "cell_type": "code",
      "execution_count": 4,
      "metadata": {
        "colab": {
          "base_uri": "https://localhost:8080/",
          "height": 363
        },
        "id": "-QVH6Dcl37Dl",
        "outputId": "860b6d19-12bf-4db1-a0bb-f579a0e671f0"
      },
      "outputs": [
        {
          "data": {
            "text/html": [
              "<div>\n",
              "<style scoped>\n",
              "    .dataframe tbody tr th:only-of-type {\n",
              "        vertical-align: middle;\n",
              "    }\n",
              "\n",
              "    .dataframe tbody tr th {\n",
              "        vertical-align: top;\n",
              "    }\n",
              "\n",
              "    .dataframe thead th {\n",
              "        text-align: right;\n",
              "    }\n",
              "</style>\n",
              "<table border=\"1\" class=\"dataframe\">\n",
              "  <thead>\n",
              "    <tr style=\"text-align: right;\">\n",
              "      <th></th>\n",
              "      <th>0</th>\n",
              "      <th>1</th>\n",
              "      <th>2</th>\n",
              "      <th>3</th>\n",
              "      <th>4</th>\n",
              "      <th>5</th>\n",
              "      <th>6</th>\n",
              "      <th>7</th>\n",
              "      <th>8</th>\n",
              "      <th>9</th>\n",
              "      <th>10</th>\n",
              "      <th>11</th>\n",
              "      <th>12</th>\n",
              "    </tr>\n",
              "  </thead>\n",
              "  <tbody>\n",
              "    <tr>\n",
              "      <th>0</th>\n",
              "      <td>0.09178</td>\n",
              "      <td>0.0</td>\n",
              "      <td>4.05</td>\n",
              "      <td>0.0</td>\n",
              "      <td>0.510</td>\n",
              "      <td>6.416</td>\n",
              "      <td>84.1</td>\n",
              "      <td>2.6463</td>\n",
              "      <td>5.0</td>\n",
              "      <td>296.0</td>\n",
              "      <td>16.6</td>\n",
              "      <td>395.50</td>\n",
              "      <td>9.04</td>\n",
              "    </tr>\n",
              "    <tr>\n",
              "      <th>1</th>\n",
              "      <td>0.05644</td>\n",
              "      <td>40.0</td>\n",
              "      <td>6.41</td>\n",
              "      <td>1.0</td>\n",
              "      <td>0.447</td>\n",
              "      <td>6.758</td>\n",
              "      <td>32.9</td>\n",
              "      <td>4.0776</td>\n",
              "      <td>4.0</td>\n",
              "      <td>254.0</td>\n",
              "      <td>17.6</td>\n",
              "      <td>396.90</td>\n",
              "      <td>3.53</td>\n",
              "    </tr>\n",
              "    <tr>\n",
              "      <th>2</th>\n",
              "      <td>0.10574</td>\n",
              "      <td>0.0</td>\n",
              "      <td>27.74</td>\n",
              "      <td>0.0</td>\n",
              "      <td>0.609</td>\n",
              "      <td>5.983</td>\n",
              "      <td>98.8</td>\n",
              "      <td>1.8681</td>\n",
              "      <td>4.0</td>\n",
              "      <td>711.0</td>\n",
              "      <td>20.1</td>\n",
              "      <td>390.11</td>\n",
              "      <td>18.07</td>\n",
              "    </tr>\n",
              "    <tr>\n",
              "      <th>3</th>\n",
              "      <td>0.09164</td>\n",
              "      <td>0.0</td>\n",
              "      <td>10.81</td>\n",
              "      <td>0.0</td>\n",
              "      <td>0.413</td>\n",
              "      <td>6.065</td>\n",
              "      <td>7.8</td>\n",
              "      <td>5.2873</td>\n",
              "      <td>4.0</td>\n",
              "      <td>305.0</td>\n",
              "      <td>19.2</td>\n",
              "      <td>390.91</td>\n",
              "      <td>5.52</td>\n",
              "    </tr>\n",
              "    <tr>\n",
              "      <th>4</th>\n",
              "      <td>5.09017</td>\n",
              "      <td>0.0</td>\n",
              "      <td>18.10</td>\n",
              "      <td>0.0</td>\n",
              "      <td>0.713</td>\n",
              "      <td>6.297</td>\n",
              "      <td>91.8</td>\n",
              "      <td>2.3682</td>\n",
              "      <td>24.0</td>\n",
              "      <td>666.0</td>\n",
              "      <td>20.2</td>\n",
              "      <td>385.09</td>\n",
              "      <td>17.27</td>\n",
              "    </tr>\n",
              "    <tr>\n",
              "      <th>5</th>\n",
              "      <td>0.10153</td>\n",
              "      <td>0.0</td>\n",
              "      <td>12.83</td>\n",
              "      <td>0.0</td>\n",
              "      <td>0.437</td>\n",
              "      <td>6.279</td>\n",
              "      <td>74.5</td>\n",
              "      <td>4.0522</td>\n",
              "      <td>5.0</td>\n",
              "      <td>398.0</td>\n",
              "      <td>18.7</td>\n",
              "      <td>373.66</td>\n",
              "      <td>11.97</td>\n",
              "    </tr>\n",
              "    <tr>\n",
              "      <th>6</th>\n",
              "      <td>0.31827</td>\n",
              "      <td>0.0</td>\n",
              "      <td>9.90</td>\n",
              "      <td>0.0</td>\n",
              "      <td>0.544</td>\n",
              "      <td>5.914</td>\n",
              "      <td>83.2</td>\n",
              "      <td>3.9986</td>\n",
              "      <td>4.0</td>\n",
              "      <td>304.0</td>\n",
              "      <td>18.4</td>\n",
              "      <td>390.70</td>\n",
              "      <td>18.33</td>\n",
              "    </tr>\n",
              "    <tr>\n",
              "      <th>7</th>\n",
              "      <td>0.29090</td>\n",
              "      <td>0.0</td>\n",
              "      <td>21.89</td>\n",
              "      <td>0.0</td>\n",
              "      <td>0.624</td>\n",
              "      <td>6.174</td>\n",
              "      <td>93.6</td>\n",
              "      <td>1.6119</td>\n",
              "      <td>4.0</td>\n",
              "      <td>437.0</td>\n",
              "      <td>21.2</td>\n",
              "      <td>388.08</td>\n",
              "      <td>24.16</td>\n",
              "    </tr>\n",
              "    <tr>\n",
              "      <th>8</th>\n",
              "      <td>4.03841</td>\n",
              "      <td>0.0</td>\n",
              "      <td>18.10</td>\n",
              "      <td>0.0</td>\n",
              "      <td>0.532</td>\n",
              "      <td>6.229</td>\n",
              "      <td>90.7</td>\n",
              "      <td>3.0993</td>\n",
              "      <td>24.0</td>\n",
              "      <td>666.0</td>\n",
              "      <td>20.2</td>\n",
              "      <td>395.33</td>\n",
              "      <td>12.87</td>\n",
              "    </tr>\n",
              "    <tr>\n",
              "      <th>9</th>\n",
              "      <td>0.22438</td>\n",
              "      <td>0.0</td>\n",
              "      <td>9.69</td>\n",
              "      <td>0.0</td>\n",
              "      <td>0.585</td>\n",
              "      <td>6.027</td>\n",
              "      <td>79.7</td>\n",
              "      <td>2.4982</td>\n",
              "      <td>6.0</td>\n",
              "      <td>391.0</td>\n",
              "      <td>19.2</td>\n",
              "      <td>396.90</td>\n",
              "      <td>14.33</td>\n",
              "    </tr>\n",
              "  </tbody>\n",
              "</table>\n",
              "</div>"
            ],
            "text/plain": [
              "        0     1      2    3      4      5     6       7     8      9     10  \\\n",
              "0  0.09178   0.0   4.05  0.0  0.510  6.416  84.1  2.6463   5.0  296.0  16.6   \n",
              "1  0.05644  40.0   6.41  1.0  0.447  6.758  32.9  4.0776   4.0  254.0  17.6   \n",
              "2  0.10574   0.0  27.74  0.0  0.609  5.983  98.8  1.8681   4.0  711.0  20.1   \n",
              "3  0.09164   0.0  10.81  0.0  0.413  6.065   7.8  5.2873   4.0  305.0  19.2   \n",
              "4  5.09017   0.0  18.10  0.0  0.713  6.297  91.8  2.3682  24.0  666.0  20.2   \n",
              "5  0.10153   0.0  12.83  0.0  0.437  6.279  74.5  4.0522   5.0  398.0  18.7   \n",
              "6  0.31827   0.0   9.90  0.0  0.544  5.914  83.2  3.9986   4.0  304.0  18.4   \n",
              "7  0.29090   0.0  21.89  0.0  0.624  6.174  93.6  1.6119   4.0  437.0  21.2   \n",
              "8  4.03841   0.0  18.10  0.0  0.532  6.229  90.7  3.0993  24.0  666.0  20.2   \n",
              "9  0.22438   0.0   9.69  0.0  0.585  6.027  79.7  2.4982   6.0  391.0  19.2   \n",
              "\n",
              "       11     12  \n",
              "0  395.50   9.04  \n",
              "1  396.90   3.53  \n",
              "2  390.11  18.07  \n",
              "3  390.91   5.52  \n",
              "4  385.09  17.27  \n",
              "5  373.66  11.97  \n",
              "6  390.70  18.33  \n",
              "7  388.08  24.16  \n",
              "8  395.33  12.87  \n",
              "9  396.90  14.33  "
            ]
          },
          "execution_count": 4,
          "metadata": {},
          "output_type": "execute_result"
        }
      ],
      "source": [
        "# Converting Data to DataFrame \n",
        "X_train_df = pd.DataFrame(X_train)\n",
        "y_train_df = pd.DataFrame(y_train)\n",
        "\n",
        "# Preview the training data\n",
        "X_train_df.head(10)"
      ]
    },
    {
      "cell_type": "code",
      "execution_count": 5,
      "metadata": {
        "colab": {
          "base_uri": "https://localhost:8080/"
        },
        "id": "NtocpgHS6zUg",
        "outputId": "874e6070-2117-49b5-968e-44f980f9219e"
      },
      "outputs": [
        {
          "name": "stdout",
          "output_type": "stream",
          "text": [
            "<class 'pandas.core.frame.DataFrame'>\n",
            "RangeIndex: 404 entries, 0 to 403\n",
            "Data columns (total 13 columns):\n",
            " #   Column  Non-Null Count  Dtype  \n",
            "---  ------  --------------  -----  \n",
            " 0   0       404 non-null    float64\n",
            " 1   1       404 non-null    float64\n",
            " 2   2       404 non-null    float64\n",
            " 3   3       404 non-null    float64\n",
            " 4   4       404 non-null    float64\n",
            " 5   5       404 non-null    float64\n",
            " 6   6       404 non-null    float64\n",
            " 7   7       404 non-null    float64\n",
            " 8   8       404 non-null    float64\n",
            " 9   9       404 non-null    float64\n",
            " 10  10      404 non-null    float64\n",
            " 11  11      404 non-null    float64\n",
            " 12  12      404 non-null    float64\n",
            "dtypes: float64(13)\n",
            "memory usage: 41.2 KB\n",
            "________________________________________\n",
            "<class 'pandas.core.frame.DataFrame'>\n",
            "RangeIndex: 404 entries, 0 to 403\n",
            "Data columns (total 1 columns):\n",
            " #   Column  Non-Null Count  Dtype  \n",
            "---  ------  --------------  -----  \n",
            " 0   0       404 non-null    float64\n",
            "dtypes: float64(1)\n",
            "memory usage: 3.3 KB\n"
          ]
        }
      ],
      "source": [
        "# View summary of datasets\n",
        "X_train_df.info()\n",
        "print('_'*40)\n",
        "y_train_df.info()"
      ]
    },
    {
      "cell_type": "code",
      "execution_count": 6,
      "metadata": {
        "colab": {
          "base_uri": "https://localhost:8080/",
          "height": 364
        },
        "id": "CeeFStx68vMP",
        "outputId": "887bb519-8460-4c38-f52a-e7c65e66a221"
      },
      "outputs": [
        {
          "data": {
            "text/html": [
              "<div>\n",
              "<style scoped>\n",
              "    .dataframe tbody tr th:only-of-type {\n",
              "        vertical-align: middle;\n",
              "    }\n",
              "\n",
              "    .dataframe tbody tr th {\n",
              "        vertical-align: top;\n",
              "    }\n",
              "\n",
              "    .dataframe thead th {\n",
              "        text-align: right;\n",
              "    }\n",
              "</style>\n",
              "<table border=\"1\" class=\"dataframe\">\n",
              "  <thead>\n",
              "    <tr style=\"text-align: right;\">\n",
              "      <th></th>\n",
              "      <th>0</th>\n",
              "      <th>1</th>\n",
              "      <th>2</th>\n",
              "      <th>3</th>\n",
              "      <th>4</th>\n",
              "      <th>5</th>\n",
              "      <th>6</th>\n",
              "      <th>7</th>\n",
              "      <th>8</th>\n",
              "      <th>9</th>\n",
              "      <th>10</th>\n",
              "      <th>11</th>\n",
              "      <th>12</th>\n",
              "    </tr>\n",
              "  </thead>\n",
              "  <tbody>\n",
              "    <tr>\n",
              "      <th>count</th>\n",
              "      <td>404.000000</td>\n",
              "      <td>404.000000</td>\n",
              "      <td>404.000000</td>\n",
              "      <td>404.000000</td>\n",
              "      <td>404.000000</td>\n",
              "      <td>404.000000</td>\n",
              "      <td>404.000000</td>\n",
              "      <td>404.000000</td>\n",
              "      <td>404.000000</td>\n",
              "      <td>404.000000</td>\n",
              "      <td>404.000000</td>\n",
              "      <td>404.000000</td>\n",
              "      <td>404.000000</td>\n",
              "    </tr>\n",
              "    <tr>\n",
              "      <th>mean</th>\n",
              "      <td>3.789989</td>\n",
              "      <td>11.568069</td>\n",
              "      <td>11.214059</td>\n",
              "      <td>0.069307</td>\n",
              "      <td>0.554524</td>\n",
              "      <td>6.284824</td>\n",
              "      <td>69.119307</td>\n",
              "      <td>3.792258</td>\n",
              "      <td>9.660891</td>\n",
              "      <td>408.960396</td>\n",
              "      <td>18.481931</td>\n",
              "      <td>356.293020</td>\n",
              "      <td>12.825520</td>\n",
              "    </tr>\n",
              "    <tr>\n",
              "      <th>std</th>\n",
              "      <td>9.132761</td>\n",
              "      <td>24.269648</td>\n",
              "      <td>6.925462</td>\n",
              "      <td>0.254290</td>\n",
              "      <td>0.116408</td>\n",
              "      <td>0.723759</td>\n",
              "      <td>28.034606</td>\n",
              "      <td>2.142651</td>\n",
              "      <td>8.736073</td>\n",
              "      <td>169.685166</td>\n",
              "      <td>2.157322</td>\n",
              "      <td>92.058615</td>\n",
              "      <td>7.308772</td>\n",
              "    </tr>\n",
              "    <tr>\n",
              "      <th>min</th>\n",
              "      <td>0.006320</td>\n",
              "      <td>0.000000</td>\n",
              "      <td>0.460000</td>\n",
              "      <td>0.000000</td>\n",
              "      <td>0.385000</td>\n",
              "      <td>3.561000</td>\n",
              "      <td>2.900000</td>\n",
              "      <td>1.137000</td>\n",
              "      <td>1.000000</td>\n",
              "      <td>187.000000</td>\n",
              "      <td>12.600000</td>\n",
              "      <td>0.320000</td>\n",
              "      <td>1.920000</td>\n",
              "    </tr>\n",
              "    <tr>\n",
              "      <th>25%</th>\n",
              "      <td>0.081960</td>\n",
              "      <td>0.000000</td>\n",
              "      <td>5.190000</td>\n",
              "      <td>0.000000</td>\n",
              "      <td>0.452000</td>\n",
              "      <td>5.878750</td>\n",
              "      <td>45.475000</td>\n",
              "      <td>2.097050</td>\n",
              "      <td>4.000000</td>\n",
              "      <td>281.000000</td>\n",
              "      <td>17.400000</td>\n",
              "      <td>375.085000</td>\n",
              "      <td>7.092500</td>\n",
              "    </tr>\n",
              "    <tr>\n",
              "      <th>50%</th>\n",
              "      <td>0.262660</td>\n",
              "      <td>0.000000</td>\n",
              "      <td>9.690000</td>\n",
              "      <td>0.000000</td>\n",
              "      <td>0.538000</td>\n",
              "      <td>6.210000</td>\n",
              "      <td>77.500000</td>\n",
              "      <td>3.167500</td>\n",
              "      <td>5.000000</td>\n",
              "      <td>330.000000</td>\n",
              "      <td>19.100000</td>\n",
              "      <td>391.305000</td>\n",
              "      <td>11.560000</td>\n",
              "    </tr>\n",
              "    <tr>\n",
              "      <th>75%</th>\n",
              "      <td>3.717875</td>\n",
              "      <td>12.500000</td>\n",
              "      <td>18.100000</td>\n",
              "      <td>0.000000</td>\n",
              "      <td>0.624000</td>\n",
              "      <td>6.620500</td>\n",
              "      <td>94.425000</td>\n",
              "      <td>5.118000</td>\n",
              "      <td>24.000000</td>\n",
              "      <td>666.000000</td>\n",
              "      <td>20.200000</td>\n",
              "      <td>395.810000</td>\n",
              "      <td>17.167500</td>\n",
              "    </tr>\n",
              "    <tr>\n",
              "      <th>max</th>\n",
              "      <td>88.976200</td>\n",
              "      <td>100.000000</td>\n",
              "      <td>27.740000</td>\n",
              "      <td>1.000000</td>\n",
              "      <td>0.871000</td>\n",
              "      <td>8.780000</td>\n",
              "      <td>100.000000</td>\n",
              "      <td>12.126500</td>\n",
              "      <td>24.000000</td>\n",
              "      <td>711.000000</td>\n",
              "      <td>22.000000</td>\n",
              "      <td>396.900000</td>\n",
              "      <td>37.970000</td>\n",
              "    </tr>\n",
              "  </tbody>\n",
              "</table>\n",
              "</div>"
            ],
            "text/plain": [
              "               0           1           2           3           4           5   \\\n",
              "count  404.000000  404.000000  404.000000  404.000000  404.000000  404.000000   \n",
              "mean     3.789989   11.568069   11.214059    0.069307    0.554524    6.284824   \n",
              "std      9.132761   24.269648    6.925462    0.254290    0.116408    0.723759   \n",
              "min      0.006320    0.000000    0.460000    0.000000    0.385000    3.561000   \n",
              "25%      0.081960    0.000000    5.190000    0.000000    0.452000    5.878750   \n",
              "50%      0.262660    0.000000    9.690000    0.000000    0.538000    6.210000   \n",
              "75%      3.717875   12.500000   18.100000    0.000000    0.624000    6.620500   \n",
              "max     88.976200  100.000000   27.740000    1.000000    0.871000    8.780000   \n",
              "\n",
              "               6           7           8           9           10          11  \\\n",
              "count  404.000000  404.000000  404.000000  404.000000  404.000000  404.000000   \n",
              "mean    69.119307    3.792258    9.660891  408.960396   18.481931  356.293020   \n",
              "std     28.034606    2.142651    8.736073  169.685166    2.157322   92.058615   \n",
              "min      2.900000    1.137000    1.000000  187.000000   12.600000    0.320000   \n",
              "25%     45.475000    2.097050    4.000000  281.000000   17.400000  375.085000   \n",
              "50%     77.500000    3.167500    5.000000  330.000000   19.100000  391.305000   \n",
              "75%     94.425000    5.118000   24.000000  666.000000   20.200000  395.810000   \n",
              "max    100.000000   12.126500   24.000000  711.000000   22.000000  396.900000   \n",
              "\n",
              "               12  \n",
              "count  404.000000  \n",
              "mean    12.825520  \n",
              "std      7.308772  \n",
              "min      1.920000  \n",
              "25%      7.092500  \n",
              "50%     11.560000  \n",
              "75%     17.167500  \n",
              "max     37.970000  "
            ]
          },
          "execution_count": 6,
          "metadata": {},
          "output_type": "execute_result"
        }
      ],
      "source": [
        "# distribution of numerical feature values across the samples\n",
        "X_train_df.describe()"
      ]
    },
    {
      "cell_type": "code",
      "execution_count": 7,
      "metadata": {
        "colab": {
          "base_uri": "https://localhost:8080/",
          "height": 344
        },
        "id": "JEXlXchREDC6",
        "outputId": "891b630d-c9f4-4c11-9f09-dbbf883324d6"
      },
      "outputs": [
        {
          "data": {
            "text/html": [
              "<div>\n",
              "<style scoped>\n",
              "    .dataframe tbody tr th:only-of-type {\n",
              "        vertical-align: middle;\n",
              "    }\n",
              "\n",
              "    .dataframe tbody tr th {\n",
              "        vertical-align: top;\n",
              "    }\n",
              "\n",
              "    .dataframe thead th {\n",
              "        text-align: right;\n",
              "    }\n",
              "</style>\n",
              "<table border=\"1\" class=\"dataframe\">\n",
              "  <thead>\n",
              "    <tr style=\"text-align: right;\">\n",
              "      <th></th>\n",
              "      <th>0</th>\n",
              "      <th>1</th>\n",
              "      <th>2</th>\n",
              "      <th>3</th>\n",
              "      <th>4</th>\n",
              "      <th>5</th>\n",
              "      <th>6</th>\n",
              "      <th>7</th>\n",
              "      <th>8</th>\n",
              "      <th>9</th>\n",
              "      <th>10</th>\n",
              "      <th>11</th>\n",
              "    </tr>\n",
              "  </thead>\n",
              "  <tbody>\n",
              "    <tr>\n",
              "      <th>count</th>\n",
              "      <td>404.000000</td>\n",
              "      <td>404.000000</td>\n",
              "      <td>404.000000</td>\n",
              "      <td>404.000000</td>\n",
              "      <td>404.000000</td>\n",
              "      <td>404.000000</td>\n",
              "      <td>404.000000</td>\n",
              "      <td>404.000000</td>\n",
              "      <td>404.000000</td>\n",
              "      <td>404.000000</td>\n",
              "      <td>404.000000</td>\n",
              "      <td>404.000000</td>\n",
              "    </tr>\n",
              "    <tr>\n",
              "      <th>mean</th>\n",
              "      <td>0.042528</td>\n",
              "      <td>0.115681</td>\n",
              "      <td>0.394210</td>\n",
              "      <td>0.348815</td>\n",
              "      <td>0.521905</td>\n",
              "      <td>0.681970</td>\n",
              "      <td>0.241618</td>\n",
              "      <td>0.376560</td>\n",
              "      <td>0.423589</td>\n",
              "      <td>0.625737</td>\n",
              "      <td>0.897607</td>\n",
              "      <td>0.302511</td>\n",
              "    </tr>\n",
              "    <tr>\n",
              "      <th>std</th>\n",
              "      <td>0.102650</td>\n",
              "      <td>0.242696</td>\n",
              "      <td>0.253866</td>\n",
              "      <td>0.239522</td>\n",
              "      <td>0.138678</td>\n",
              "      <td>0.288719</td>\n",
              "      <td>0.194973</td>\n",
              "      <td>0.379829</td>\n",
              "      <td>0.323827</td>\n",
              "      <td>0.229502</td>\n",
              "      <td>0.232131</td>\n",
              "      <td>0.202740</td>\n",
              "    </tr>\n",
              "    <tr>\n",
              "      <th>min</th>\n",
              "      <td>0.000000</td>\n",
              "      <td>0.000000</td>\n",
              "      <td>0.000000</td>\n",
              "      <td>0.000000</td>\n",
              "      <td>0.000000</td>\n",
              "      <td>0.000000</td>\n",
              "      <td>0.000000</td>\n",
              "      <td>0.000000</td>\n",
              "      <td>0.000000</td>\n",
              "      <td>0.000000</td>\n",
              "      <td>0.000000</td>\n",
              "      <td>0.000000</td>\n",
              "    </tr>\n",
              "    <tr>\n",
              "      <th>25%</th>\n",
              "      <td>0.000850</td>\n",
              "      <td>0.000000</td>\n",
              "      <td>0.173387</td>\n",
              "      <td>0.137860</td>\n",
              "      <td>0.444098</td>\n",
              "      <td>0.438466</td>\n",
              "      <td>0.087361</td>\n",
              "      <td>0.130435</td>\n",
              "      <td>0.179389</td>\n",
              "      <td>0.510638</td>\n",
              "      <td>0.944992</td>\n",
              "      <td>0.143481</td>\n",
              "    </tr>\n",
              "    <tr>\n",
              "      <th>50%</th>\n",
              "      <td>0.002881</td>\n",
              "      <td>0.000000</td>\n",
              "      <td>0.338343</td>\n",
              "      <td>0.314815</td>\n",
              "      <td>0.507569</td>\n",
              "      <td>0.768280</td>\n",
              "      <td>0.184767</td>\n",
              "      <td>0.173913</td>\n",
              "      <td>0.272901</td>\n",
              "      <td>0.691489</td>\n",
              "      <td>0.985892</td>\n",
              "      <td>0.267406</td>\n",
              "    </tr>\n",
              "    <tr>\n",
              "      <th>75%</th>\n",
              "      <td>0.041717</td>\n",
              "      <td>0.125000</td>\n",
              "      <td>0.646628</td>\n",
              "      <td>0.491770</td>\n",
              "      <td>0.586223</td>\n",
              "      <td>0.942585</td>\n",
              "      <td>0.362255</td>\n",
              "      <td>1.000000</td>\n",
              "      <td>0.914122</td>\n",
              "      <td>0.808511</td>\n",
              "      <td>0.997252</td>\n",
              "      <td>0.422954</td>\n",
              "    </tr>\n",
              "    <tr>\n",
              "      <th>max</th>\n",
              "      <td>1.000000</td>\n",
              "      <td>1.000000</td>\n",
              "      <td>1.000000</td>\n",
              "      <td>1.000000</td>\n",
              "      <td>1.000000</td>\n",
              "      <td>1.000000</td>\n",
              "      <td>1.000000</td>\n",
              "      <td>1.000000</td>\n",
              "      <td>1.000000</td>\n",
              "      <td>1.000000</td>\n",
              "      <td>1.000000</td>\n",
              "      <td>1.000000</td>\n",
              "    </tr>\n",
              "  </tbody>\n",
              "</table>\n",
              "</div>"
            ],
            "text/plain": [
              "               0           1           2           3           4           5   \\\n",
              "count  404.000000  404.000000  404.000000  404.000000  404.000000  404.000000   \n",
              "mean     0.042528    0.115681    0.394210    0.348815    0.521905    0.681970   \n",
              "std      0.102650    0.242696    0.253866    0.239522    0.138678    0.288719   \n",
              "min      0.000000    0.000000    0.000000    0.000000    0.000000    0.000000   \n",
              "25%      0.000850    0.000000    0.173387    0.137860    0.444098    0.438466   \n",
              "50%      0.002881    0.000000    0.338343    0.314815    0.507569    0.768280   \n",
              "75%      0.041717    0.125000    0.646628    0.491770    0.586223    0.942585   \n",
              "max      1.000000    1.000000    1.000000    1.000000    1.000000    1.000000   \n",
              "\n",
              "               6           7           8           9           10          11  \n",
              "count  404.000000  404.000000  404.000000  404.000000  404.000000  404.000000  \n",
              "mean     0.241618    0.376560    0.423589    0.625737    0.897607    0.302511  \n",
              "std      0.194973    0.379829    0.323827    0.229502    0.232131    0.202740  \n",
              "min      0.000000    0.000000    0.000000    0.000000    0.000000    0.000000  \n",
              "25%      0.087361    0.130435    0.179389    0.510638    0.944992    0.143481  \n",
              "50%      0.184767    0.173913    0.272901    0.691489    0.985892    0.267406  \n",
              "75%      0.362255    1.000000    0.914122    0.808511    0.997252    0.422954  \n",
              "max      1.000000    1.000000    1.000000    1.000000    1.000000    1.000000  "
            ]
          },
          "execution_count": 7,
          "metadata": {},
          "output_type": "execute_result"
        }
      ],
      "source": [
        "# Create column transformer\n",
        "ct = make_column_transformer(\n",
        "    (MinMaxScaler(), [0, 1, 2, 4, 5, 6, 7, 8, 9, 10, 11, 12])\n",
        ")\n",
        "\n",
        "# Normalization and data type change\n",
        "X_train = ct.fit_transform(X_train).astype('float32')\n",
        "X_test = ct.transform(X_test).astype('float32')\n",
        "y_train = y_train.astype('float32')\n",
        "y_test = y_test.astype('float32')\n",
        "\n",
        "# Distribution of X_train feature values after normalization\n",
        "pd.DataFrame(X_train).describe()"
      ]
    },
    {
      "cell_type": "code",
      "execution_count": 8,
      "metadata": {
        "colab": {
          "base_uri": "https://localhost:8080/"
        },
        "id": "0yG6aN-_RDxF",
        "outputId": "dcf22498-58a2-405e-f110-e0def71cd652"
      },
      "outputs": [
        {
          "data": {
            "text/plain": [
              "((363, 12), (41, 12), (363,), (41,))"
            ]
          },
          "execution_count": 8,
          "metadata": {},
          "output_type": "execute_result"
        }
      ],
      "source": [
        "# Reserve data for validation\n",
        "X_train, X_val, y_train, y_val = train_test_split(X_train, y_train, test_size=0.1, random_state=42)\n",
        "X_train.shape, X_val.shape, y_train.shape, y_val.shape"
      ]
    },
    {
      "attachments": {},
      "cell_type": "markdown",
      "metadata": {
        "id": "rXXjkEnchKQ0"
      },
      "source": [
        "## Creating the Model and Optimizing the Learning Rate"
      ]
    },
    {
      "attachments": {},
      "cell_type": "markdown",
      "metadata": {
        "id": "wt3qQohTiNK8"
      },
      "source": [
        "learning rate = 0.01,\n",
        "batch_size = 32,\n",
        "dense_layers = 2,\n",
        "hidden_units for Dense_1 layer= 10,\n",
        "hidden_units for Dense_2 layer = 100"
      ]
    },
    {
      "cell_type": "code",
      "execution_count": 9,
      "metadata": {
        "colab": {
          "base_uri": "https://localhost:8080/"
        },
        "id": "rxuLioVJHXep",
        "outputId": "db41144b-fcda-4412-d658-e8c7b4b48129"
      },
      "outputs": [
        {
          "name": "stdout",
          "output_type": "stream",
          "text": [
            "Epoch 1/50\n",
            "12/12 [==============================] - 1s 20ms/step - loss: 279.4693 - mse: 279.4693 - val_loss: 131.5164 - val_mse: 131.5164\n",
            "Epoch 2/50\n",
            "12/12 [==============================] - 0s 5ms/step - loss: 89.6261 - mse: 89.6261 - val_loss: 89.0050 - val_mse: 89.0050\n",
            "Epoch 3/50\n",
            "12/12 [==============================] - 0s 5ms/step - loss: 62.8877 - mse: 62.8877 - val_loss: 71.4584 - val_mse: 71.4584\n",
            "Epoch 4/50\n",
            "12/12 [==============================] - 0s 4ms/step - loss: 52.5657 - mse: 52.5657 - val_loss: 66.3133 - val_mse: 66.3133\n",
            "Epoch 5/50\n",
            "12/12 [==============================] - 0s 5ms/step - loss: 49.2240 - mse: 49.2240 - val_loss: 65.3708 - val_mse: 65.3708\n",
            "Epoch 6/50\n",
            "12/12 [==============================] - 0s 4ms/step - loss: 40.0123 - mse: 40.0123 - val_loss: 61.9539 - val_mse: 61.9539\n",
            "Epoch 7/50\n",
            "12/12 [==============================] - 0s 4ms/step - loss: 34.2759 - mse: 34.2759 - val_loss: 36.1978 - val_mse: 36.1978\n",
            "Epoch 8/50\n",
            "12/12 [==============================] - 0s 4ms/step - loss: 29.9273 - mse: 29.9273 - val_loss: 43.5300 - val_mse: 43.5300\n",
            "Epoch 9/50\n",
            "12/12 [==============================] - 0s 4ms/step - loss: 28.6092 - mse: 28.6092 - val_loss: 26.8224 - val_mse: 26.8224\n",
            "Epoch 10/50\n",
            "12/12 [==============================] - 0s 4ms/step - loss: 29.1691 - mse: 29.1691 - val_loss: 41.0316 - val_mse: 41.0316\n",
            "Epoch 11/50\n",
            "12/12 [==============================] - 0s 5ms/step - loss: 23.0651 - mse: 23.0651 - val_loss: 40.8259 - val_mse: 40.8259\n",
            "Epoch 12/50\n",
            "12/12 [==============================] - 0s 4ms/step - loss: 26.3627 - mse: 26.3627 - val_loss: 21.8730 - val_mse: 21.8730\n",
            "Epoch 13/50\n",
            "12/12 [==============================] - 0s 4ms/step - loss: 22.0017 - mse: 22.0017 - val_loss: 44.2645 - val_mse: 44.2645\n",
            "Epoch 14/50\n",
            "12/12 [==============================] - 0s 4ms/step - loss: 22.6991 - mse: 22.6991 - val_loss: 18.0610 - val_mse: 18.0610\n",
            "Epoch 15/50\n",
            "12/12 [==============================] - 0s 4ms/step - loss: 21.0364 - mse: 21.0364 - val_loss: 17.2604 - val_mse: 17.2604\n",
            "Epoch 16/50\n",
            "12/12 [==============================] - 0s 4ms/step - loss: 20.4370 - mse: 20.4370 - val_loss: 22.1027 - val_mse: 22.1027\n",
            "Epoch 17/50\n",
            "12/12 [==============================] - 0s 5ms/step - loss: 20.7343 - mse: 20.7343 - val_loss: 42.3744 - val_mse: 42.3744\n",
            "Epoch 18/50\n",
            "12/12 [==============================] - 0s 5ms/step - loss: 23.3048 - mse: 23.3048 - val_loss: 16.5682 - val_mse: 16.5682\n",
            "Epoch 19/50\n",
            "12/12 [==============================] - 0s 4ms/step - loss: 18.4897 - mse: 18.4897 - val_loss: 16.3458 - val_mse: 16.3458\n",
            "Epoch 20/50\n",
            "12/12 [==============================] - 0s 4ms/step - loss: 22.2616 - mse: 22.2616 - val_loss: 16.5174 - val_mse: 16.5174\n",
            "Epoch 21/50\n",
            "12/12 [==============================] - 0s 4ms/step - loss: 22.2224 - mse: 22.2224 - val_loss: 16.3879 - val_mse: 16.3879\n",
            "Epoch 22/50\n",
            "12/12 [==============================] - 0s 4ms/step - loss: 18.6795 - mse: 18.6795 - val_loss: 48.4475 - val_mse: 48.4475\n",
            "Epoch 23/50\n",
            "12/12 [==============================] - 0s 6ms/step - loss: 20.5606 - mse: 20.5606 - val_loss: 14.3492 - val_mse: 14.3492\n",
            "Epoch 24/50\n",
            "12/12 [==============================] - 0s 4ms/step - loss: 20.4945 - mse: 20.4945 - val_loss: 14.8081 - val_mse: 14.8081\n",
            "Epoch 25/50\n",
            "12/12 [==============================] - 0s 4ms/step - loss: 18.4260 - mse: 18.4260 - val_loss: 35.9793 - val_mse: 35.9793\n",
            "Epoch 26/50\n",
            "12/12 [==============================] - 0s 4ms/step - loss: 20.3437 - mse: 20.3437 - val_loss: 33.7056 - val_mse: 33.7056\n",
            "Epoch 27/50\n",
            "12/12 [==============================] - 0s 4ms/step - loss: 19.8183 - mse: 19.8183 - val_loss: 25.3779 - val_mse: 25.3779\n",
            "Epoch 28/50\n",
            "12/12 [==============================] - 0s 4ms/step - loss: 18.5602 - mse: 18.5602 - val_loss: 13.2600 - val_mse: 13.2600\n",
            "Epoch 29/50\n",
            "12/12 [==============================] - 0s 4ms/step - loss: 19.1792 - mse: 19.1792 - val_loss: 24.0312 - val_mse: 24.0312\n",
            "Epoch 30/50\n",
            "12/12 [==============================] - 0s 4ms/step - loss: 20.3234 - mse: 20.3234 - val_loss: 31.4308 - val_mse: 31.4308\n",
            "Epoch 31/50\n",
            "12/12 [==============================] - 0s 4ms/step - loss: 20.6894 - mse: 20.6894 - val_loss: 21.4474 - val_mse: 21.4474\n",
            "Epoch 32/50\n",
            "12/12 [==============================] - 0s 4ms/step - loss: 17.3583 - mse: 17.3583 - val_loss: 20.0105 - val_mse: 20.0105\n",
            "Epoch 33/50\n",
            "12/12 [==============================] - 0s 4ms/step - loss: 18.1032 - mse: 18.1032 - val_loss: 12.1799 - val_mse: 12.1799\n",
            "Epoch 34/50\n",
            "12/12 [==============================] - 0s 4ms/step - loss: 17.7946 - mse: 17.7946 - val_loss: 12.3160 - val_mse: 12.3160\n",
            "Epoch 35/50\n",
            "12/12 [==============================] - 0s 4ms/step - loss: 19.8114 - mse: 19.8114 - val_loss: 12.1377 - val_mse: 12.1377\n",
            "Epoch 36/50\n",
            "12/12 [==============================] - 0s 4ms/step - loss: 19.1820 - mse: 19.1820 - val_loss: 16.1345 - val_mse: 16.1345\n",
            "Epoch 37/50\n",
            "12/12 [==============================] - 0s 5ms/step - loss: 18.6990 - mse: 18.6990 - val_loss: 35.3165 - val_mse: 35.3165\n",
            "Epoch 38/50\n",
            "12/12 [==============================] - 0s 4ms/step - loss: 17.1152 - mse: 17.1152 - val_loss: 19.9461 - val_mse: 19.9461\n",
            "Epoch 39/50\n",
            "12/12 [==============================] - 0s 4ms/step - loss: 18.0117 - mse: 18.0117 - val_loss: 12.1757 - val_mse: 12.1757\n",
            "Epoch 40/50\n",
            "12/12 [==============================] - 0s 4ms/step - loss: 17.8384 - mse: 17.8384 - val_loss: 14.8806 - val_mse: 14.8806\n",
            "Epoch 41/50\n",
            "12/12 [==============================] - 0s 4ms/step - loss: 16.2169 - mse: 16.2169 - val_loss: 16.0703 - val_mse: 16.0703\n",
            "Epoch 42/50\n",
            "12/12 [==============================] - 0s 4ms/step - loss: 17.8253 - mse: 17.8253 - val_loss: 13.6171 - val_mse: 13.6171\n",
            "Epoch 43/50\n",
            "12/12 [==============================] - 0s 4ms/step - loss: 20.8390 - mse: 20.8390 - val_loss: 23.2451 - val_mse: 23.2451\n",
            "Epoch 44/50\n",
            "12/12 [==============================] - 0s 4ms/step - loss: 15.7236 - mse: 15.7236 - val_loss: 13.2418 - val_mse: 13.2418\n",
            "Epoch 45/50\n",
            "12/12 [==============================] - 0s 4ms/step - loss: 18.9255 - mse: 18.9255 - val_loss: 25.0831 - val_mse: 25.0831\n",
            "Epoch 46/50\n",
            "12/12 [==============================] - 0s 4ms/step - loss: 17.5682 - mse: 17.5682 - val_loss: 13.3054 - val_mse: 13.3054\n",
            "Epoch 47/50\n",
            "12/12 [==============================] - 0s 4ms/step - loss: 18.5879 - mse: 18.5879 - val_loss: 23.1590 - val_mse: 23.1590\n",
            "Epoch 48/50\n",
            "12/12 [==============================] - 0s 4ms/step - loss: 15.9482 - mse: 15.9482 - val_loss: 15.5995 - val_mse: 15.5995\n",
            "Epoch 49/50\n",
            "12/12 [==============================] - 0s 4ms/step - loss: 15.7001 - mse: 15.7001 - val_loss: 12.1523 - val_mse: 12.1523\n",
            "Epoch 50/50\n",
            "12/12 [==============================] - 0s 4ms/step - loss: 18.1958 - mse: 18.1958 - val_loss: 11.8812 - val_mse: 11.8812\n"
          ]
        }
      ],
      "source": [
        "# Set random seed\n",
        "tf.random.set_seed(42)\n",
        "\n",
        "# Building the model\n",
        "model = tf.keras.Sequential([\n",
        "  tf.keras.layers.Dense(units=10, activation='relu', input_shape=(X_train.shape[1],), name='Dense_1'),\n",
        "  tf.keras.layers.Dense(units=100, activation='relu', name='Dense_2'),\n",
        "  tf.keras.layers.Dense(units=1, name='Prediction')\n",
        "])\n",
        "\n",
        "# Compiling the model\n",
        "model.compile(\n",
        "    loss = tf.keras.losses.mean_squared_error,\n",
        "    optimizer = tf.keras.optimizers.RMSprop(learning_rate=0.01),\n",
        "    metrics = ['mse']\n",
        ")\n",
        "\n",
        "# Training the model\n",
        "history = model.fit(\n",
        "    X_train,\n",
        "    y_train,\n",
        "    batch_size=32,\n",
        "    epochs=50,\n",
        "    validation_data=(X_val, y_val)\n",
        ")"
      ]
    },
    {
      "attachments": {},
      "cell_type": "markdown",
      "metadata": {
        "id": "VasQEdJRe9NK"
      },
      "source": [
        "## Model Evaluation"
      ]
    },
    {
      "cell_type": "code",
      "execution_count": 10,
      "metadata": {
        "colab": {
          "base_uri": "https://localhost:8080/"
        },
        "id": "1t-7HcflKgGV",
        "outputId": "71e123d7-73d3-4d6e-97d9-3a6aa6774076"
      },
      "outputs": [
        {
          "data": {
            "text/plain": [
              "(22.235537, 24.89756)"
            ]
          },
          "execution_count": 10,
          "metadata": {},
          "output_type": "execute_result"
        }
      ],
      "source": [
        "# Preview the mean value of training and validation data\n",
        "y_train.mean(), y_val.mean()"
      ]
    },
    {
      "cell_type": "code",
      "execution_count": 11,
      "metadata": {
        "colab": {
          "base_uri": "https://localhost:8080/"
        },
        "id": "4F5mom8FfACb",
        "outputId": "1577826d-50d7-47a8-ab8c-d423d52be46e"
      },
      "outputs": [
        {
          "name": "stdout",
          "output_type": "stream",
          "text": [
            "Evaluation on Test data \n",
            "\n",
            "4/4 [==============================] - 0s 2ms/step - loss: 18.8527 - mse: 18.8527\n",
            "\n",
            "Model loss on test set: 18.852697372436523\n",
            "Model mean squared error on test set: 18.85\n"
          ]
        }
      ],
      "source": [
        "# Evaluate the model on the test data\n",
        "print(\"Evaluation on Test data \\n\")\n",
        "loss, mse = model.evaluate(X_test, y_test, batch_size=32)\n",
        "print(f\"\\nModel loss on test set: {loss}\")\n",
        "print(f\"Model mean squared error on test set: {(mse):.2f}\")"
      ]
    },
    {
      "cell_type": "code",
      "execution_count": 12,
      "metadata": {
        "colab": {
          "base_uri": "https://localhost:8080/",
          "height": 295
        },
        "id": "1CD_HeZ1LFZ5",
        "outputId": "4caf3820-2be3-421d-9826-600baf83d452"
      },
      "outputs": [
        {
          "data": {
            "image/png": "[encoded data removed]",
            "text/plain": [
              "<Figure size 432x288 with 1 Axes>"
            ]
          },
          "metadata": {
            "needs_background": "light"
          },
          "output_type": "display_data"
        }
      ],
      "source": [
        "# Plot the loss curves\n",
        "pd.DataFrame(history.history).plot(figsize=(6, 4), xlabel=\"Epochs\", ylabel=\"Loss\", title='Loss Curves')\n",
        "plt.show()"
      ]
    },
    {
      "attachments": {},
      "cell_type": "markdown",
      "metadata": {
        "id": "Wsto_sf8fXM-"
      },
      "source": [
        "## Model Prediction"
      ]
    },
    {
      "cell_type": "code",
      "execution_count": 13,
      "metadata": {
        "colab": {
          "base_uri": "https://localhost:8080/"
        },
        "id": "TrKgnaZpfmJI",
        "outputId": "acd18217-d775-4d3a-b901-e490d8628d6f"
      },
      "outputs": [
        {
          "name": "stdout",
          "output_type": "stream",
          "text": [
            "4/4 [==============================] - 0s 1ms/step\n"
          ]
        },
        {
          "data": {
            "text/plain": [
              "array([18.09249], dtype=float32)"
            ]
          },
          "execution_count": 13,
          "metadata": {},
          "output_type": "execute_result"
        }
      ],
      "source": [
        "# Make predictions\n",
        "y_pred = model.predict(X_test)\n",
        "\n",
        "# View the first prediction\n",
        "y_pred[0]"
      ]
    }
  ],
  "metadata": {
    "accelerator": "GPU",
    "colab": {
      "provenance": [],
      "toc_visible": true
    },
    "gpuClass": "standard",
    "kernelspec": {
      "display_name": "Python 3 (ipykernel)",
      "language": "python",
      "name": "python3"
    },
    "language_info": {
      "codemirror_mode": {
        "name": "ipython",
        "version": 3
      },
      "file_extension": ".py",
      "mimetype": "text/x-python",
      "name": "python",
      "nbconvert_exporter": "python",
      "pygments_lexer": "ipython3",
      "version": "3.9.10"
    }
  },
  "nbformat": 4,
  "nbformat_minor": 0
}
